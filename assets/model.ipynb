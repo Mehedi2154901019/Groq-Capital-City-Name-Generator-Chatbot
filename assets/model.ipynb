{
 "cells": [
  {
   "cell_type": "code",
   "execution_count": 71,
   "id": "fda28d74",
   "metadata": {},
   "outputs": [],
   "source": [
    "import os\n",
    "from secret_key import key\n",
    "from langchain_groq import ChatGroq"
   ]
  },
  {
   "cell_type": "code",
   "execution_count": 72,
   "id": "c4c87c74",
   "metadata": {},
   "outputs": [],
   "source": [
    "os.environ[\"GROQ_API_KEY\"]=key\n",
    "\n",
    "llm=ChatGroq(temperature=0.6,model=\"openai/gpt-oss-120b\")\n"
   ]
  },
  {
   "cell_type": "code",
   "execution_count": 73,
   "id": "9a88f805",
   "metadata": {},
   "outputs": [],
   "source": [
    "def prompt(CountryName):\n",
    "    question=f\"what is the capital city of {CountryName}? Give me single answer\"\n",
    "    response= llm.invoke(question)\n",
    "    return response.content.strip()"
   ]
  },
  {
   "cell_type": "code",
   "execution_count": 74,
   "id": "e887205c",
   "metadata": {},
   "outputs": [
    {
     "name": "stdout",
     "output_type": "stream",
     "text": [
      "New Delhi\n"
     ]
    }
   ],
   "source": [
    "text=prompt(\"India\")\n",
    "print(text)"
   ]
  },
  {
   "cell_type": "code",
   "execution_count": null,
   "id": "cfa98137",
   "metadata": {},
   "outputs": [],
   "source": []
  }
 ],
 "metadata": {
  "kernelspec": {
   "display_name": "Python 3",
   "language": "python",
   "name": "python3"
  },
  "language_info": {
   "codemirror_mode": {
    "name": "ipython",
    "version": 3
   },
   "file_extension": ".py",
   "mimetype": "text/x-python",
   "name": "python",
   "nbconvert_exporter": "python",
   "pygments_lexer": "ipython3",
   "version": "3.12.6"
  }
 },
 "nbformat": 4,
 "nbformat_minor": 5
}
